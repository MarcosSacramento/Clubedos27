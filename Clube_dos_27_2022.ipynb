{
 "cells": [
  {
   "cell_type": "markdown",
   "metadata": {},
   "source": [
    "Fonte dos dados: https://pt.wikipedia.org/wiki/Lista_de_mortes_de_personalidades_do_rock"
   ]
  },
  {
   "cell_type": "code",
   "execution_count": 1,
   "metadata": {},
   "outputs": [
    {
     "name": "stdout",
     "output_type": "stream",
     "text": [
      "<class 'pandas.core.frame.DataFrame'>\n",
      "RangeIndex: 323 entries, 0 to 322\n",
      "Data columns (total 6 columns):\n",
      " #   Column   Non-Null Count  Dtype \n",
      "---  ------   --------------  ----- \n",
      " 0   Data     323 non-null    object\n",
      " 1   Nome     323 non-null    object\n",
      " 2   Idade    323 non-null    int64 \n",
      " 3   Origem   323 non-null    object\n",
      " 4   Atuação  323 non-null    object\n",
      " 5   Causa    323 non-null    object\n",
      "dtypes: int64(1), object(5)\n",
      "memory usage: 15.3+ KB\n"
     ]
    }
   ],
   "source": [
    "import pandas as pd \n",
    "import matplotlib.pyplot as plt\n",
    "\n",
    "df = pd.read_csv(r\"C:\\Users\\Marcos\\Análises\\Clube dos 27\\2022\\lista_musicos.csv\")\n",
    "df.info()"
   ]
  },
  {
   "cell_type": "markdown",
   "metadata": {},
   "source": [
    "### Limpeza dos dados"
   ]
  },
  {
   "cell_type": "markdown",
   "metadata": {},
   "source": [
    " 01 deixar apenas o ano na coluna Data "
   ]
  },
  {
   "cell_type": "code",
   "execution_count": 2,
   "metadata": {},
   "outputs": [
    {
     "name": "stderr",
     "output_type": "stream",
     "text": [
      "C:\\Users\\PC\\anaconda3\\lib\\site-packages\\ipykernel_launcher.py:11: FutureWarning: The default value of regex will change from True to False in a future version. In addition, single character regular expressions will *not* be treated as literal strings when regex=True.\n",
      "  # This is added back by InteractiveShellApp.init_path()\n",
      "C:\\Users\\PC\\anaconda3\\lib\\site-packages\\ipykernel_launcher.py:12: FutureWarning: The default value of regex will change from True to False in a future version. In addition, single character regular expressions will *not* be treated as literal strings when regex=True.\n",
      "  if sys.path[0] == '':\n"
     ]
    }
   ],
   "source": [
    "# nisso aqui, vale a pena olhar o método split, onde o 4 diz quantas vezes vou dividir\n",
    "col = df['Data'].str.split(' ', 4, expand=True)\n",
    "\n",
    "#Criando uma nova coluna, chamada ano, pegando o índice da coluna onde está a info do ano:\n",
    "df['Ano'] = col[4]\n",
    "#Convertendo o tipo de dado de Ano, de object para int64\n",
    "df['Ano'] = df['Ano'].astype('int64')\n",
    "\n",
    "# Falta Retirar o caracter []  e os números da coluna Causa\n",
    "\n",
    "df['Causa'] = df['Causa'].str.replace(']', '')\n",
    "df['Causa'] = df['Causa'].str.replace('[', '')\n",
    "df['Causa'] = df['Causa'].str.replace('0', '')\n",
    "df['Causa'] = df['Causa'].str.replace('1', '')\n",
    "df['Causa'] = df['Causa'].str.replace('2', '')\n",
    "df['Causa'] = df['Causa'].str.replace('3', '')\n",
    "df['Causa'] = df['Causa'].str.replace('4', '')\n",
    "df['Causa'] = df['Causa'].str.replace('5', '')\n",
    "df['Causa'] = df['Causa'].str.replace('6', '')\n",
    "df['Causa'] = df['Causa'].str.replace('7', '')\n",
    "df['Causa'] = df['Causa'].str.replace('8', '')\n",
    "df['Causa'] = df['Causa'].str.replace('9', '')\n",
    "\n",
    "#conferindo se saiu tudo \n",
    "#causa = df['Causa']\n",
    "#causa.loc[16]\n"
   ]
  },
  {
   "cell_type": "markdown",
   "metadata": {},
   "source": [
    "### Análises \n",
    "- ver o percentual de 27 anos:\n",
    "Resposta: A idade de 27 lidera, com 15 ocorrências.Em seguida vem a idade de 30 anos, com 11 registros, dois a mais que a terceira idade mais comum, 28 anos. \n",
    "Embora 27 lidere, em termos estatísticos não é um ponto fora da curva. Representa 4,6% de um universo de 323 registros.\n",
    "\n",
    "- ver as médias e medianas de idades:\n",
    "Resposta: A média fica em 49,16 anos (média aritmética simples, na mediana fica 49)\n",
    "- Ver a maior e menor idade:\n",
    "Resposta: O mais novo da lista tinha 17 anos (Ritchie Valens, do clássico La Bamba) e a pessoa mais velha, 94 (Les Paul).\n",
    "- Causas de mortes: \n",
    "São 171 causas de mortes, com algumas redundâncias. Algumas se misturam como \"ataque cardíaco ou overdose\". Mesmo com a imprecisão, contei:\n",
    "Causas:\n",
    "- Overdose: 39\n",
    "- Acidente; 36\n",
    "- Câncer: 43\n",
    "- Eletrocutado: 02\n",
    "\n",
    "\n",
    "\n",
    "Detalhar os com 27, por país e causas de mortes:\n",
    "\n",
    "\n",
    "Recorte Brasil, com os mesmos dados anteriores: No caso Brasileiro, a idade que mais aparece é 30 anos, com 6% dos casos. média de idade (45,75). Quanto ao percentual de 27 anos, é apenas 3%\n",
    "\n"
   ]
  },
  {
   "cell_type": "code",
   "execution_count": 3,
   "metadata": {},
   "outputs": [
    {
     "data": {
      "text/plain": [
       "27    4.643963\n",
       "30    3.405573\n",
       "28    2.786378\n",
       "46    2.786378\n",
       "42    2.476780\n",
       "        ...   \n",
       "89    0.309598\n",
       "17    0.309598\n",
       "19    0.309598\n",
       "94    0.309598\n",
       "84    0.309598\n",
       "Name: Idade, Length: 70, dtype: float64"
      ]
     },
     "execution_count": 3,
     "metadata": {},
     "output_type": "execute_result"
    }
   ],
   "source": [
    "#Percentual de 27 anos => 4,64 % do total, segundo tem 3,40% do total. \n",
    "\n",
    "df['Idade'].value_counts(normalize = True)*100\n",
    "#df['Idade'].value_counts()\n"
   ]
  },
  {
   "cell_type": "code",
   "execution_count": 4,
   "metadata": {},
   "outputs": [
    {
     "data": {
      "text/plain": [
       "<AxesSubplot:xlabel='idade'>"
      ]
     },
     "execution_count": 4,
     "metadata": {},
     "output_type": "execute_result"
    },
    {
     "data": {
      "image/png": "[encoded data removed]",
      "text/plain": [
       "<Figure size 1728x432 with 1 Axes>"
      ]
     },
     "metadata": {
      "needs_background": "light"
     },
     "output_type": "display_data"
    }
   ],
   "source": [
    "#Analisando graficamente. para isso, criei outro DF, o qtd_idade. Depois ordenei por idade. \n",
    "\n",
    "qtd_idade = df['Idade'].value_counts().to_frame().reset_index()\n",
    "qtd_idade.rename(columns={'index': 'idade', 'Idade': 'numero'}, inplace = True)\n",
    "\n",
    "#Aqui foi o pulo do gato. Consegui deixar só a barra dos 27 com cor diferente.\n",
    "idades = qtd_idade.sort_values(by='idade')\n",
    "cores = [ 'Red' if num == 27 else 'Blue' for num in idades['idade']]\n",
    "idades.plot(x='idade', y='numero', kind='bar', figsize = (24,6), color = cores)\n",
    "#plt.savefig('27.png')"
   ]
  },
  {
   "cell_type": "code",
   "execution_count": 28,
   "metadata": {},
   "outputs": [],
   "source": [
    "#ver as médias e medianas de idades; idades máximas e mínimas\n",
    "\n",
    "#df['Idade'].describe()\n",
    "#Retornos: Idade mínima (17) e idade máxima (94)\n",
    "\n",
    "#df['Idade'].mean() # => média de idade (49,16)\n",
    "\n",
    "#df['Idade'].median() # => mediana (49,00)\n",
    "\n",
    "#df['Idade'].mode() # => moda, valor que mais aparece (27)\n"
   ]
  },
  {
   "cell_type": "markdown",
   "metadata": {},
   "source": [
    "### Analisando as causas"
   ]
  },
  {
   "cell_type": "code",
   "execution_count": 5,
   "metadata": {},
   "outputs": [
    {
     "data": {
      "text/plain": [
       "Ataque cardíaco                                                     24\n",
       "Câncer                                                              18\n",
       "Causa não divulgada                                                 17\n",
       "Acidente aéreo                                                      16\n",
       "Overdose de heroína                                                 11\n",
       "                                                                    ..\n",
       "Meningite e pneumonia, seguidos de derrame e estado de \\n\\ncoma      1\n",
       "Pancreatite                                                          1\n",
       "Hemorragia interna e falência hepática                               1\n",
       "Câncer no fígado                                                     1\n",
       "Causa ainda não confirmada                                           1\n",
       "Name: Causa, Length: 171, dtype: int64"
      ]
     },
     "execution_count": 5,
     "metadata": {},
     "output_type": "execute_result"
    }
   ],
   "source": [
    "df['Causa'].value_counts()"
   ]
  },
  {
   "cell_type": "code",
   "execution_count": 6,
   "metadata": {},
   "outputs": [
    {
     "data": {
      "text/plain": [
       "0      Em um jogo de roleta russa com um revólver (ou...\n",
       "1                                        Acidente aéreo \n",
       "2                              Acidente aéreo e incêndio\n",
       "3                                        Acidente aéreo \n",
       "4                               Acidente automobilístico\n",
       "                             ...                        \n",
       "318                                  Causa não divulgada\n",
       "319                           Causa ainda não confirmada\n",
       "320                                  Causa não divulgada\n",
       "321                                               COVID-\n",
       "322                                      Ataque cardíaco\n",
       "Name: Causa, Length: 323, dtype: object"
      ]
     },
     "metadata": {},
     "output_type": "display_data"
    }
   ],
   "source": [
    "causa = df['Causa']\n",
    "display(causa)"
   ]
  },
  {
   "cell_type": "markdown",
   "metadata": {},
   "source": [
    "Causas:\n",
    "- Overdose: 39\n",
    "- Acidente; 36\n",
    "- Câncer: 43\n",
    "- Eletrocutado: 02\n",
    "- Suicídio: 23"
   ]
  },
  {
   "cell_type": "code",
   "execution_count": 11,
   "metadata": {},
   "outputs": [
    {
     "data": {
      "text/html": [
       "<div>\n",
       "<style scoped>\n",
       "    .dataframe tbody tr th:only-of-type {\n",
       "        vertical-align: middle;\n",
       "    }\n",
       "\n",
       "    .dataframe tbody tr th {\n",
       "        vertical-align: top;\n",
       "    }\n",
       "\n",
       "    .dataframe thead th {\n",
       "        text-align: right;\n",
       "    }\n",
       "</style>\n",
       "<table border=\"1\" class=\"dataframe\">\n",
       "  <thead>\n",
       "    <tr style=\"text-align: right;\">\n",
       "      <th></th>\n",
       "      <th>Data</th>\n",
       "      <th>Nome</th>\n",
       "      <th>Idade</th>\n",
       "      <th>Origem</th>\n",
       "      <th>Atuação</th>\n",
       "      <th>Causa</th>\n",
       "      <th>Ano</th>\n",
       "    </tr>\n",
       "  </thead>\n",
       "  <tbody>\n",
       "    <tr>\n",
       "      <th>19</th>\n",
       "      <td>3 de maio de 1972</td>\n",
       "      <td>Leslie Harvey</td>\n",
       "      <td>27</td>\n",
       "      <td>Escócia</td>\n",
       "      <td>Guitarrista do Stone the Crows</td>\n",
       "      <td>Eletrocutado durante um ensaio ao encostar em ...</td>\n",
       "      <td>1972</td>\n",
       "    </tr>\n",
       "    <tr>\n",
       "      <th>27</th>\n",
       "      <td>26 de novembro de 1973</td>\n",
       "      <td>John Rostill</td>\n",
       "      <td>31</td>\n",
       "      <td>Inglaterra</td>\n",
       "      <td>Baixista do The Shadows</td>\n",
       "      <td>Eletrocutado enquanto tocava guitarra em seu e...</td>\n",
       "      <td>1973</td>\n",
       "    </tr>\n",
       "  </tbody>\n",
       "</table>\n",
       "</div>"
      ],
      "text/plain": [
       "                      Data           Nome  Idade      Origem  \\\n",
       "19       3 de maio de 1972  Leslie Harvey     27     Escócia   \n",
       "27  26 de novembro de 1973   John Rostill     31  Inglaterra   \n",
       "\n",
       "                           Atuação  \\\n",
       "19  Guitarrista do Stone the Crows   \n",
       "27         Baixista do The Shadows   \n",
       "\n",
       "                                                Causa   Ano  \n",
       "19  Eletrocutado durante um ensaio ao encostar em ...  1972  \n",
       "27  Eletrocutado enquanto tocava guitarra em seu e...  1973  "
      ]
     },
     "execution_count": 11,
     "metadata": {},
     "output_type": "execute_result"
    }
   ],
   "source": [
    "#Testando métodos para filtrar as causas\n",
    "# método contains => df['Overdose'] = df.Causa.str.contains('overdose' or '0verdose')\n",
    "causas_detail = df[df['Causa'].str.contains('Eletrocutado')]\n",
    "#causas_detail['Causa'].value_counts().sum()\n",
    "causas_detail.head(10)"
   ]
  },
  {
   "cell_type": "markdown",
   "metadata": {},
   "source": [
    "### Recorte só com 27"
   ]
  },
  {
   "cell_type": "code",
   "execution_count": 7,
   "metadata": {},
   "outputs": [
    {
     "data": {
      "text/html": [
       "<div>\n",
       "<style scoped>\n",
       "    .dataframe tbody tr th:only-of-type {\n",
       "        vertical-align: middle;\n",
       "    }\n",
       "\n",
       "    .dataframe tbody tr th {\n",
       "        vertical-align: top;\n",
       "    }\n",
       "\n",
       "    .dataframe thead th {\n",
       "        text-align: right;\n",
       "    }\n",
       "</style>\n",
       "<table border=\"1\" class=\"dataframe\">\n",
       "  <thead>\n",
       "    <tr style=\"text-align: right;\">\n",
       "      <th></th>\n",
       "      <th>Data</th>\n",
       "      <th>Nome</th>\n",
       "      <th>Idade</th>\n",
       "      <th>Origem</th>\n",
       "      <th>Atuação</th>\n",
       "      <th>Causa</th>\n",
       "      <th>Ano</th>\n",
       "    </tr>\n",
       "  </thead>\n",
       "  <tbody>\n",
       "    <tr>\n",
       "      <th>12</th>\n",
       "      <td>3 de julho de 1969</td>\n",
       "      <td>Brian Jones</td>\n",
       "      <td>27</td>\n",
       "      <td>Inglaterra</td>\n",
       "      <td>Guitarrista dos Rolling Stones</td>\n",
       "      <td>Afogamento</td>\n",
       "      <td>1969</td>\n",
       "    </tr>\n",
       "    <tr>\n",
       "      <th>13</th>\n",
       "      <td>3 de setembro de 1970</td>\n",
       "      <td>Alan Wilson</td>\n",
       "      <td>27</td>\n",
       "      <td>Estados Unidos</td>\n",
       "      <td>Vocalista e compositor do Canned Heat</td>\n",
       "      <td>Overdose (ou suicídio)</td>\n",
       "      <td>1970</td>\n",
       "    </tr>\n",
       "    <tr>\n",
       "      <th>14</th>\n",
       "      <td>18 de setembro de 1970</td>\n",
       "      <td>Jimi Hendrix</td>\n",
       "      <td>27</td>\n",
       "      <td>Estados Unidos</td>\n",
       "      <td>Guitarrista, cantor e compositor</td>\n",
       "      <td>Sufocado com o próprio vômito (overdose)</td>\n",
       "      <td>1970</td>\n",
       "    </tr>\n",
       "    <tr>\n",
       "      <th>15</th>\n",
       "      <td>4 de outubro de 1970</td>\n",
       "      <td>Janis Joplin</td>\n",
       "      <td>27</td>\n",
       "      <td>Estados Unidos</td>\n",
       "      <td>Cantora solo</td>\n",
       "      <td>Overdose de heroína</td>\n",
       "      <td>1970</td>\n",
       "    </tr>\n",
       "    <tr>\n",
       "      <th>16</th>\n",
       "      <td>3 de julho de 1971</td>\n",
       "      <td>Jim Morrison</td>\n",
       "      <td>27</td>\n",
       "      <td>Estados Unidos</td>\n",
       "      <td>Cantor e compositor do The Doors</td>\n",
       "      <td>Ataque cardíaco (causa oficial) ou overdose de...</td>\n",
       "      <td>1971</td>\n",
       "    </tr>\n",
       "    <tr>\n",
       "      <th>19</th>\n",
       "      <td>3 de maio de 1972</td>\n",
       "      <td>Leslie Harvey</td>\n",
       "      <td>27</td>\n",
       "      <td>Escócia</td>\n",
       "      <td>Guitarrista do Stone the Crows</td>\n",
       "      <td>Eletrocutado durante um ensaio ao encostar em ...</td>\n",
       "      <td>1972</td>\n",
       "    </tr>\n",
       "    <tr>\n",
       "      <th>23</th>\n",
       "      <td>8 de março de 1973</td>\n",
       "      <td>Ron McKernan</td>\n",
       "      <td>27</td>\n",
       "      <td>Estados Unidos</td>\n",
       "      <td>Tecladista do Grateful Dead</td>\n",
       "      <td>Hemorragia gastrointestinal</td>\n",
       "      <td>1973</td>\n",
       "    </tr>\n",
       "    <tr>\n",
       "      <th>34</th>\n",
       "      <td>24 de abril de 1975</td>\n",
       "      <td>Pete Ham</td>\n",
       "      <td>27</td>\n",
       "      <td>País de Gales</td>\n",
       "      <td>Vocalista e guitarrista do Badfinger</td>\n",
       "      <td>Suicídio por enforcamento</td>\n",
       "      <td>1975</td>\n",
       "    </tr>\n",
       "    <tr>\n",
       "      <th>35</th>\n",
       "      <td>10 de fevereiro de 1975</td>\n",
       "      <td>Dave Alexander</td>\n",
       "      <td>27</td>\n",
       "      <td>Estados Unidos</td>\n",
       "      <td>Baixista do The Stooges</td>\n",
       "      <td>Edema pulmonar</td>\n",
       "      <td>1975</td>\n",
       "    </tr>\n",
       "    <tr>\n",
       "      <th>36</th>\n",
       "      <td>8 de dezembro de 1975</td>\n",
       "      <td>Gary Thain</td>\n",
       "      <td>27</td>\n",
       "      <td>Nova Zelândia</td>\n",
       "      <td>Ex-baixista do Uriah Heep</td>\n",
       "      <td>Overdose de heroína</td>\n",
       "      <td>1975</td>\n",
       "    </tr>\n",
       "    <tr>\n",
       "      <th>47</th>\n",
       "      <td>27 de dezembro de 1978</td>\n",
       "      <td>Chris Bell</td>\n",
       "      <td>27</td>\n",
       "      <td>Estados Unidos</td>\n",
       "      <td>Guitarrista do Big Star</td>\n",
       "      <td>Acidente automobilístico</td>\n",
       "      <td>1978</td>\n",
       "    </tr>\n",
       "    <tr>\n",
       "      <th>107</th>\n",
       "      <td>5 de abril de 1994</td>\n",
       "      <td>Kurt Cobain</td>\n",
       "      <td>27</td>\n",
       "      <td>Estados Unidos</td>\n",
       "      <td>Vocalista e guitarrista do Nirvana</td>\n",
       "      <td>Suicídio por arma de fogo</td>\n",
       "      <td>1994</td>\n",
       "    </tr>\n",
       "    <tr>\n",
       "      <th>108</th>\n",
       "      <td>16 de junho de 1994</td>\n",
       "      <td>Kristen Pfaff</td>\n",
       "      <td>27</td>\n",
       "      <td>Estados Unidos</td>\n",
       "      <td>Baixista do Janitor Joe e do Hole</td>\n",
       "      <td>Overdose de heroína</td>\n",
       "      <td>1994</td>\n",
       "    </tr>\n",
       "    <tr>\n",
       "      <th>109</th>\n",
       "      <td>8 de julho de 1994</td>\n",
       "      <td>Skunk</td>\n",
       "      <td>27</td>\n",
       "      <td>Brasil</td>\n",
       "      <td>Ex-vocalista do Planet Hemp</td>\n",
       "      <td>AIDS</td>\n",
       "      <td>1994</td>\n",
       "    </tr>\n",
       "    <tr>\n",
       "      <th>215</th>\n",
       "      <td>23 de julho de 2011</td>\n",
       "      <td>Amy Winehouse</td>\n",
       "      <td>27</td>\n",
       "      <td>Inglaterra</td>\n",
       "      <td>Cantora</td>\n",
       "      <td>Complicações causadas por abuso de álcool</td>\n",
       "      <td>2011</td>\n",
       "    </tr>\n",
       "  </tbody>\n",
       "</table>\n",
       "</div>"
      ],
      "text/plain": [
       "                        Data            Nome  Idade          Origem  \\\n",
       "12        3 de julho de 1969     Brian Jones     27      Inglaterra   \n",
       "13     3 de setembro de 1970     Alan Wilson     27  Estados Unidos   \n",
       "14    18 de setembro de 1970    Jimi Hendrix     27  Estados Unidos   \n",
       "15      4 de outubro de 1970    Janis Joplin     27  Estados Unidos   \n",
       "16        3 de julho de 1971    Jim Morrison     27  Estados Unidos   \n",
       "19         3 de maio de 1972   Leslie Harvey     27         Escócia   \n",
       "23        8 de março de 1973    Ron McKernan     27  Estados Unidos   \n",
       "34       24 de abril de 1975        Pete Ham     27   País de Gales   \n",
       "35   10 de fevereiro de 1975  Dave Alexander     27  Estados Unidos   \n",
       "36     8 de dezembro de 1975      Gary Thain     27   Nova Zelândia   \n",
       "47    27 de dezembro de 1978      Chris Bell     27  Estados Unidos   \n",
       "107       5 de abril de 1994     Kurt Cobain     27  Estados Unidos   \n",
       "108      16 de junho de 1994   Kristen Pfaff     27  Estados Unidos   \n",
       "109       8 de julho de 1994           Skunk     27          Brasil   \n",
       "215      23 de julho de 2011   Amy Winehouse     27      Inglaterra   \n",
       "\n",
       "                                   Atuação  \\\n",
       "12          Guitarrista dos Rolling Stones   \n",
       "13   Vocalista e compositor do Canned Heat   \n",
       "14        Guitarrista, cantor e compositor   \n",
       "15                            Cantora solo   \n",
       "16        Cantor e compositor do The Doors   \n",
       "19          Guitarrista do Stone the Crows   \n",
       "23             Tecladista do Grateful Dead   \n",
       "34    Vocalista e guitarrista do Badfinger   \n",
       "35                 Baixista do The Stooges   \n",
       "36               Ex-baixista do Uriah Heep   \n",
       "47                 Guitarrista do Big Star   \n",
       "107     Vocalista e guitarrista do Nirvana   \n",
       "108      Baixista do Janitor Joe e do Hole   \n",
       "109            Ex-vocalista do Planet Hemp   \n",
       "215                                Cantora   \n",
       "\n",
       "                                                 Causa   Ano  \n",
       "12                                          Afogamento  1969  \n",
       "13                              Overdose (ou suicídio)  1970  \n",
       "14            Sufocado com o próprio vômito (overdose)  1970  \n",
       "15                                 Overdose de heroína  1970  \n",
       "16   Ataque cardíaco (causa oficial) ou overdose de...  1971  \n",
       "19   Eletrocutado durante um ensaio ao encostar em ...  1972  \n",
       "23                         Hemorragia gastrointestinal  1973  \n",
       "34                           Suicídio por enforcamento  1975  \n",
       "35                                      Edema pulmonar  1975  \n",
       "36                                 Overdose de heroína  1975  \n",
       "47                            Acidente automobilístico  1978  \n",
       "107                          Suicídio por arma de fogo  1994  \n",
       "108                                Overdose de heroína  1994  \n",
       "109                                               AIDS  1994  \n",
       "215          Complicações causadas por abuso de álcool  2011  "
      ]
     },
     "metadata": {},
     "output_type": "display_data"
    }
   ],
   "source": [
    "vinte_sete = df[df['Idade'] == 27]\n",
    "#vinte_sete['Causa'].value_counts()\n",
    "display(vinte_sete)"
   ]
  },
  {
   "cell_type": "code",
   "execution_count": 8,
   "metadata": {},
   "outputs": [
    {
     "data": {
      "text/plain": [
       "Overdose de heroína                                                                                               3\n",
       "Overdose (ou suicídio)                                                                                            1\n",
       "Sufocado com o próprio vômito (overdose)                                                                          1\n",
       "Ataque cardíaco (causa oficial) ou overdose de heroína (teoria mais \\naceita, pois não foi realizada autópsia)    1\n",
       "Name: Causa, dtype: int64"
      ]
     },
     "execution_count": 8,
     "metadata": {},
     "output_type": "execute_result"
    }
   ],
   "source": [
    "vinte_sete_causas = vinte_sete[vinte_sete['Causa'].str.contains('Overdose|overdose')]\n",
    "vinte_sete_causas['Causa'].value_counts()"
   ]
  },
  {
   "cell_type": "markdown",
   "metadata": {},
   "source": [
    "### Análises das causas só com os do 27\n",
    "- Dos 15 casos, foram 06 overdoses"
   ]
  },
  {
   "cell_type": "markdown",
   "metadata": {},
   "source": [
    "### Recorte Brasil"
   ]
  },
  {
   "cell_type": "code",
   "execution_count": 9,
   "metadata": {},
   "outputs": [],
   "source": [
    "brasil = df[df['Origem'] == 'Brasil']\n"
   ]
  },
  {
   "cell_type": "markdown",
   "metadata": {},
   "source": [
    "### Idade "
   ]
  },
  {
   "cell_type": "code",
   "execution_count": 10,
   "metadata": {},
   "outputs": [
    {
     "data": {
      "text/plain": [
       "30    6.060606\n",
       "35    6.060606\n",
       "39    6.060606\n",
       "61    6.060606\n",
       "62    6.060606\n",
       "53    6.060606\n",
       "68    3.030303\n",
       "73    3.030303\n",
       "76    3.030303\n",
       "45    3.030303\n",
       "72    3.030303\n",
       "47    3.030303\n",
       "85    3.030303\n",
       "50    3.030303\n",
       "29    3.030303\n",
       "42    3.030303\n",
       "44    3.030303\n",
       "33    3.030303\n",
       "36    3.030303\n",
       "25    3.030303\n",
       "22    3.030303\n",
       "26    3.030303\n",
       "28    3.030303\n",
       "24    3.030303\n",
       "27    3.030303\n",
       "32    3.030303\n",
       "66    3.030303\n",
       "Name: Idade, dtype: float64"
      ]
     },
     "execution_count": 10,
     "metadata": {},
     "output_type": "execute_result"
    }
   ],
   "source": [
    "#No caso Brasileiro, a idade que mais aparece é 30 anos, com 6% dos casos\n",
    "\n",
    "\n",
    "brasil['Idade'].value_counts(normalize = True)*100\n",
    "#brasil['Idade'].value_counts()\n",
    "\n",
    "#ver as médias e medianas de idades; idades máximas e mínimas\n",
    "\n",
    "#brasil['Idade'].describe()\n",
    "#Retornos: Idade mínima (17) e idade máxima (94)\n",
    "\n",
    "#brasil['Idade'].mean() # => média de idade (45,75)\n",
    "\n",
    "#brasil['Idade'].median() # => mediana (42)\n",
    "\n",
    "#brasil['Idade'].mode() # => moda, valor que mais aparece\n"
   ]
  },
  {
   "cell_type": "markdown",
   "metadata": {},
   "source": [
    "### Graficamente"
   ]
  },
  {
   "cell_type": "code",
   "execution_count": 11,
   "metadata": {},
   "outputs": [
    {
     "data": {
      "image/png": "[encoded data removed]",
      "text/plain": [
       "<Figure size 720x288 with 1 Axes>"
      ]
     },
     "metadata": {
      "needs_background": "light"
     },
     "output_type": "display_data"
    }
   ],
   "source": [
    "br_idade = brasil['Idade'].value_counts().to_frame().reset_index()\n",
    "br_idade.rename(columns={'index': 'idade', 'Idade': 'numero'}, inplace = True)\n",
    "\n",
    "#Aqui foi o pulo do gato. Consegui deixar só a barra dos 27 com cor diferente.\n",
    "idades_br = br_idade.sort_values(by='idade')\n",
    "cores = [ 'Red' if num == 27 else 'Blue' for num in idades['idade']]\n",
    "idades_br.plot(x='idade', y='numero', kind='bar', figsize = (10,4), color = cores)\n",
    "plt.savefig('brasil.png')"
   ]
  },
  {
   "cell_type": "markdown",
   "metadata": {},
   "source": [
    "### Causas Brasil"
   ]
  },
  {
   "cell_type": "code",
   "execution_count": 12,
   "metadata": {},
   "outputs": [
    {
     "data": {
      "text/plain": [
       "Acidente aéreo                                                               5\n",
       " AIDS                                                                        3\n",
       "Ataque cardíaco                                                              3\n",
       "Acidente automobilístico                                                     2\n",
       "COVID-                                                                       2\n",
       "Acidente (ou suicídio) ao cair da janela de seu apartamento, no º andar\\n    1\n",
       "Complicações decorrentes de AVC                                              1\n",
       "Insuficiência respiratória                                                   1\n",
       "Infecção pulmonar                                                            1\n",
       "Trombose venosa cerebral decorrente de COVID-                                1\n",
       "Enfarte agudo do miocárdio                                                   1\n",
       "Fibrose pulmonar                                                             1\n",
       "pneumonia (problemas cardíacos)                                              1\n",
       "Suicídio por arma de fogo                                                    1\n",
       "Complicações no fígado                                                       1\n",
       "Parada cardíaca                                                              1\n",
       "Pancreatite aguda provocada por abuso de álcool                              1\n",
       "Suicídio por enforcamento                                                    1\n",
       "Overdose de cocaína                                                          1\n",
       "Baleado com dois tiros em uma tentativa de assalto                           1\n",
       "Câncer                                                                       1\n",
       "Atropelamento                                                                1\n",
       "Câncer                                                                       1\n",
       "Name: Causa, dtype: int64"
      ]
     },
     "execution_count": 12,
     "metadata": {},
     "output_type": "execute_result"
    }
   ],
   "source": [
    "brasil['Causa'].value_counts()"
   ]
  }
 ],
 "metadata": {
  "kernelspec": {
   "display_name": "Python 3",
   "language": "python",
   "name": "python3"
  },
  "language_info": {
   "codemirror_mode": {
    "name": "ipython",
    "version": 3
   },
   "file_extension": ".py",
   "mimetype": "text/x-python",
   "name": "python",
   "nbconvert_exporter": "python",
   "pygments_lexer": "ipython3",
   "version": "3.7.6"
  }
 },
 "nbformat": 4,
 "nbformat_minor": 4
}
